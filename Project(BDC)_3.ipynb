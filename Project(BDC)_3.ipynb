{
 "cells": [
  {
   "cell_type": "markdown",
   "metadata": {},
   "source": [
    "# BIG DATA COMPANY - PROJECT"
   ]
  },
  {
   "cell_type": "markdown",
   "metadata": {},
   "source": [
    "### Group members:\n",
    "    \n",
    "Moritz Scheer\n",
    "\n",
    "Yuzhe Wang\n",
    "\n",
    "Zongyi Guo\n",
    "\n",
    "Gryy"
   ]
  },
  {
   "cell_type": "markdown",
   "metadata": {},
   "source": [
    "### Importing libraries"
   ]
  },
  {
   "cell_type": "code",
   "execution_count": 1,
   "metadata": {},
   "outputs": [],
   "source": [
    "import numpy as np\n",
    "import pandas as pd\n",
    "import matplotlib.pyplot as plt\n",
    "import seaborn as sns\n",
    "import sklearn.linear_model as lm"
   ]
  },
  {
   "cell_type": "markdown",
   "metadata": {},
   "source": [
    "### Importing data"
   ]
  },
  {
   "cell_type": "code",
   "execution_count": 2,
   "metadata": {},
   "outputs": [],
   "source": [
    "#df_original = pd.read_csv('dataport-export_gas_oct2015-mar2016.csv')\n",
    "df_original = pd.read_csv('practice.csv')"
   ]
  },
  {
   "cell_type": "code",
   "execution_count": 3,
   "metadata": {},
   "outputs": [
    {
     "data": {
      "text/html": [
       "<div>\n",
       "<style scoped>\n",
       "    .dataframe tbody tr th:only-of-type {\n",
       "        vertical-align: middle;\n",
       "    }\n",
       "\n",
       "    .dataframe tbody tr th {\n",
       "        vertical-align: top;\n",
       "    }\n",
       "\n",
       "    .dataframe thead th {\n",
       "        text-align: right;\n",
       "    }\n",
       "</style>\n",
       "<table border=\"1\" class=\"dataframe\">\n",
       "  <thead>\n",
       "    <tr style=\"text-align: right;\">\n",
       "      <th></th>\n",
       "      <th>localminute</th>\n",
       "      <th>dataid</th>\n",
       "      <th>meter_value</th>\n",
       "    </tr>\n",
       "  </thead>\n",
       "  <tbody>\n",
       "    <tr>\n",
       "      <th>0</th>\n",
       "      <td>2015-10-01 00:00:10-05</td>\n",
       "      <td>739</td>\n",
       "      <td>88858</td>\n",
       "    </tr>\n",
       "    <tr>\n",
       "      <th>1</th>\n",
       "      <td>2015-10-01 00:00:13-05</td>\n",
       "      <td>8890</td>\n",
       "      <td>197164</td>\n",
       "    </tr>\n",
       "    <tr>\n",
       "      <th>2</th>\n",
       "      <td>2015-10-01 00:00:20-05</td>\n",
       "      <td>6910</td>\n",
       "      <td>179118</td>\n",
       "    </tr>\n",
       "    <tr>\n",
       "      <th>3</th>\n",
       "      <td>2015-10-01 00:00:22-05</td>\n",
       "      <td>3635</td>\n",
       "      <td>151318</td>\n",
       "    </tr>\n",
       "    <tr>\n",
       "      <th>4</th>\n",
       "      <td>2015-10-01 00:00:22-05</td>\n",
       "      <td>1507</td>\n",
       "      <td>390354</td>\n",
       "    </tr>\n",
       "  </tbody>\n",
       "</table>\n",
       "</div>"
      ],
      "text/plain": [
       "              localminute  dataid  meter_value\n",
       "0  2015-10-01 00:00:10-05     739        88858\n",
       "1  2015-10-01 00:00:13-05    8890       197164\n",
       "2  2015-10-01 00:00:20-05    6910       179118\n",
       "3  2015-10-01 00:00:22-05    3635       151318\n",
       "4  2015-10-01 00:00:22-05    1507       390354"
      ]
     },
     "execution_count": 3,
     "metadata": {},
     "output_type": "execute_result"
    }
   ],
   "source": [
    "df_original.head()"
   ]
  },
  {
   "cell_type": "code",
   "execution_count": 4,
   "metadata": {},
   "outputs": [
    {
     "data": {
      "text/html": [
       "<div>\n",
       "<style scoped>\n",
       "    .dataframe tbody tr th:only-of-type {\n",
       "        vertical-align: middle;\n",
       "    }\n",
       "\n",
       "    .dataframe tbody tr th {\n",
       "        vertical-align: top;\n",
       "    }\n",
       "\n",
       "    .dataframe thead th {\n",
       "        text-align: right;\n",
       "    }\n",
       "</style>\n",
       "<table border=\"1\" class=\"dataframe\">\n",
       "  <thead>\n",
       "    <tr style=\"text-align: right;\">\n",
       "      <th></th>\n",
       "      <th>localminute</th>\n",
       "      <th>dataid</th>\n",
       "      <th>meter_value</th>\n",
       "    </tr>\n",
       "  </thead>\n",
       "  <tbody>\n",
       "    <tr>\n",
       "      <th>29993</th>\n",
       "      <td>2015-10-04 11:11:46-05</td>\n",
       "      <td>1283</td>\n",
       "      <td>167256</td>\n",
       "    </tr>\n",
       "    <tr>\n",
       "      <th>29994</th>\n",
       "      <td>2015-10-04 11:12:16-05</td>\n",
       "      <td>3635</td>\n",
       "      <td>151370</td>\n",
       "    </tr>\n",
       "    <tr>\n",
       "      <th>29995</th>\n",
       "      <td>2015-10-04 11:12:22-05</td>\n",
       "      <td>1714</td>\n",
       "      <td>147106</td>\n",
       "    </tr>\n",
       "    <tr>\n",
       "      <th>29996</th>\n",
       "      <td>2015-10-04 11:12:31-05</td>\n",
       "      <td>484</td>\n",
       "      <td>99398</td>\n",
       "    </tr>\n",
       "    <tr>\n",
       "      <th>29997</th>\n",
       "      <td>2015-10-04 11:12:35-05</td>\n",
       "      <td>8156</td>\n",
       "      <td>251908</td>\n",
       "    </tr>\n",
       "  </tbody>\n",
       "</table>\n",
       "</div>"
      ],
      "text/plain": [
       "                  localminute  dataid  meter_value\n",
       "29993  2015-10-04 11:11:46-05    1283       167256\n",
       "29994  2015-10-04 11:12:16-05    3635       151370\n",
       "29995  2015-10-04 11:12:22-05    1714       147106\n",
       "29996  2015-10-04 11:12:31-05     484        99398\n",
       "29997  2015-10-04 11:12:35-05    8156       251908"
      ]
     },
     "execution_count": 4,
     "metadata": {},
     "output_type": "execute_result"
    }
   ],
   "source": [
    "df_original.tail()"
   ]
  },
  {
   "cell_type": "code",
   "execution_count": 5,
   "metadata": {},
   "outputs": [
    {
     "data": {
      "text/plain": [
       "localminute    object\n",
       "dataid          int64\n",
       "meter_value     int64\n",
       "dtype: object"
      ]
     },
     "execution_count": 5,
     "metadata": {},
     "output_type": "execute_result"
    }
   ],
   "source": [
    "df_original.dtypes"
   ]
  },
  {
   "cell_type": "markdown",
   "metadata": {},
   "source": [
    "### Optimizing Data Framework"
   ]
  },
  {
   "cell_type": "code",
   "execution_count": 6,
   "metadata": {},
   "outputs": [
    {
     "data": {
      "text/html": [
       "<div>\n",
       "<style scoped>\n",
       "    .dataframe tbody tr th:only-of-type {\n",
       "        vertical-align: middle;\n",
       "    }\n",
       "\n",
       "    .dataframe tbody tr th {\n",
       "        vertical-align: top;\n",
       "    }\n",
       "\n",
       "    .dataframe thead th {\n",
       "        text-align: right;\n",
       "    }\n",
       "</style>\n",
       "<table border=\"1\" class=\"dataframe\">\n",
       "  <thead>\n",
       "    <tr style=\"text-align: right;\">\n",
       "      <th></th>\n",
       "      <th>date</th>\n",
       "      <th>id</th>\n",
       "      <th>measurement</th>\n",
       "    </tr>\n",
       "  </thead>\n",
       "  <tbody>\n",
       "    <tr>\n",
       "      <th>0</th>\n",
       "      <td>2015-10-01 00:00:10-05</td>\n",
       "      <td>739</td>\n",
       "      <td>88858</td>\n",
       "    </tr>\n",
       "    <tr>\n",
       "      <th>1</th>\n",
       "      <td>2015-10-01 00:00:13-05</td>\n",
       "      <td>8890</td>\n",
       "      <td>197164</td>\n",
       "    </tr>\n",
       "    <tr>\n",
       "      <th>2</th>\n",
       "      <td>2015-10-01 00:00:20-05</td>\n",
       "      <td>6910</td>\n",
       "      <td>179118</td>\n",
       "    </tr>\n",
       "    <tr>\n",
       "      <th>3</th>\n",
       "      <td>2015-10-01 00:00:22-05</td>\n",
       "      <td>3635</td>\n",
       "      <td>151318</td>\n",
       "    </tr>\n",
       "    <tr>\n",
       "      <th>4</th>\n",
       "      <td>2015-10-01 00:00:22-05</td>\n",
       "      <td>1507</td>\n",
       "      <td>390354</td>\n",
       "    </tr>\n",
       "  </tbody>\n",
       "</table>\n",
       "</div>"
      ],
      "text/plain": [
       "                     date    id  measurement\n",
       "0  2015-10-01 00:00:10-05   739        88858\n",
       "1  2015-10-01 00:00:13-05  8890       197164\n",
       "2  2015-10-01 00:00:20-05  6910       179118\n",
       "3  2015-10-01 00:00:22-05  3635       151318\n",
       "4  2015-10-01 00:00:22-05  1507       390354"
      ]
     },
     "execution_count": 6,
     "metadata": {},
     "output_type": "execute_result"
    }
   ],
   "source": [
    "df = df_original  #duplicated or still same object?\n",
    "df.columns = ['date', 'id', 'measurement']\n",
    "df.head()"
   ]
  },
  {
   "cell_type": "code",
   "execution_count": 7,
   "metadata": {},
   "outputs": [],
   "source": [
    "year = []\n",
    "month = []\n",
    "day = []\n",
    "hour = []\n",
    "minute = []\n",
    "sec = []\n",
    "absolute_sec = []\n",
    "\n",
    "\n",
    "for i in range (len(df.date)):\n",
    "    str_object = df.at[i, 'date']\n",
    "    year.append(int(str_object[:4]))\n",
    "    month.append(int(str_object[5:7]))\n",
    "    day.append(int(str_object[8:10]))\n",
    "    hour.append(int(str_object[11:13]))\n",
    "    minute.append(int(str_object[14:16]))\n",
    "    sec.append(int(str_object[17:19]))\n",
    "    \n",
    "    abs_sec = sec[i] + 60*minute[i] + 60*60*hour[i] + 24*60*60*(day[i] - 1)  \n",
    "    if (month[i] == 10):   \n",
    "        abs_sec += 0\n",
    "    elif (month[i] == 11):\n",
    "        abs_sec += 31*24*60*60\n",
    "    elif (month[i] == 12):\n",
    "        abs_sec += (30+31)*24*60*60\n",
    "    elif (month[i] == 1):\n",
    "        abs_sec += (31+30+31)*24*60*60\n",
    "    elif (month[i] == 2):\n",
    "        abs_sec += (31+31+30+31)*24*60*60\n",
    "    elif (month[i] == 3):\n",
    "        abs_sec += (29+31+31+30+31)*24*60*60\n",
    "    absolute_sec.append(abs_sec) \n",
    "    \n",
    "\n",
    "df.insert(1, 'year', year, allow_duplicates = True)\n",
    "df.insert(2, 'month', month, allow_duplicates = True)\n",
    "df.insert(3, 'day', day, allow_duplicates = True)\n",
    "df.insert(4, 'hour', hour, allow_duplicates = True)\n",
    "df.insert(5, 'minute', minute, allow_duplicates = True)\n",
    "df.insert(6, 'sec', sec, allow_duplicates = True)\n",
    "df.insert(7, 'absolute_sec', absolute_sec, allow_duplicates = True)"
   ]
  },
  {
   "cell_type": "code",
   "execution_count": 8,
   "metadata": {},
   "outputs": [
    {
     "data": {
      "text/html": [
       "<div>\n",
       "<style scoped>\n",
       "    .dataframe tbody tr th:only-of-type {\n",
       "        vertical-align: middle;\n",
       "    }\n",
       "\n",
       "    .dataframe tbody tr th {\n",
       "        vertical-align: top;\n",
       "    }\n",
       "\n",
       "    .dataframe thead th {\n",
       "        text-align: right;\n",
       "    }\n",
       "</style>\n",
       "<table border=\"1\" class=\"dataframe\">\n",
       "  <thead>\n",
       "    <tr style=\"text-align: right;\">\n",
       "      <th></th>\n",
       "      <th>date</th>\n",
       "      <th>year</th>\n",
       "      <th>month</th>\n",
       "      <th>day</th>\n",
       "      <th>hour</th>\n",
       "      <th>minute</th>\n",
       "      <th>sec</th>\n",
       "      <th>absolute_sec</th>\n",
       "      <th>id</th>\n",
       "      <th>measurement</th>\n",
       "    </tr>\n",
       "  </thead>\n",
       "  <tbody>\n",
       "    <tr>\n",
       "      <th>0</th>\n",
       "      <td>2015-10-01 00:00:10-05</td>\n",
       "      <td>2015</td>\n",
       "      <td>10</td>\n",
       "      <td>1</td>\n",
       "      <td>0</td>\n",
       "      <td>0</td>\n",
       "      <td>10</td>\n",
       "      <td>10</td>\n",
       "      <td>739</td>\n",
       "      <td>88858</td>\n",
       "    </tr>\n",
       "    <tr>\n",
       "      <th>1</th>\n",
       "      <td>2015-10-01 00:00:13-05</td>\n",
       "      <td>2015</td>\n",
       "      <td>10</td>\n",
       "      <td>1</td>\n",
       "      <td>0</td>\n",
       "      <td>0</td>\n",
       "      <td>13</td>\n",
       "      <td>13</td>\n",
       "      <td>8890</td>\n",
       "      <td>197164</td>\n",
       "    </tr>\n",
       "    <tr>\n",
       "      <th>2</th>\n",
       "      <td>2015-10-01 00:00:20-05</td>\n",
       "      <td>2015</td>\n",
       "      <td>10</td>\n",
       "      <td>1</td>\n",
       "      <td>0</td>\n",
       "      <td>0</td>\n",
       "      <td>20</td>\n",
       "      <td>20</td>\n",
       "      <td>6910</td>\n",
       "      <td>179118</td>\n",
       "    </tr>\n",
       "    <tr>\n",
       "      <th>3</th>\n",
       "      <td>2015-10-01 00:00:22-05</td>\n",
       "      <td>2015</td>\n",
       "      <td>10</td>\n",
       "      <td>1</td>\n",
       "      <td>0</td>\n",
       "      <td>0</td>\n",
       "      <td>22</td>\n",
       "      <td>22</td>\n",
       "      <td>3635</td>\n",
       "      <td>151318</td>\n",
       "    </tr>\n",
       "    <tr>\n",
       "      <th>4</th>\n",
       "      <td>2015-10-01 00:00:22-05</td>\n",
       "      <td>2015</td>\n",
       "      <td>10</td>\n",
       "      <td>1</td>\n",
       "      <td>0</td>\n",
       "      <td>0</td>\n",
       "      <td>22</td>\n",
       "      <td>22</td>\n",
       "      <td>1507</td>\n",
       "      <td>390354</td>\n",
       "    </tr>\n",
       "  </tbody>\n",
       "</table>\n",
       "</div>"
      ],
      "text/plain": [
       "                     date  year  month  day  hour  minute  sec  absolute_sec  \\\n",
       "0  2015-10-01 00:00:10-05  2015     10    1     0       0   10            10   \n",
       "1  2015-10-01 00:00:13-05  2015     10    1     0       0   13            13   \n",
       "2  2015-10-01 00:00:20-05  2015     10    1     0       0   20            20   \n",
       "3  2015-10-01 00:00:22-05  2015     10    1     0       0   22            22   \n",
       "4  2015-10-01 00:00:22-05  2015     10    1     0       0   22            22   \n",
       "\n",
       "     id  measurement  \n",
       "0   739        88858  \n",
       "1  8890       197164  \n",
       "2  6910       179118  \n",
       "3  3635       151318  \n",
       "4  1507       390354  "
      ]
     },
     "execution_count": 8,
     "metadata": {},
     "output_type": "execute_result"
    }
   ],
   "source": [
    "df.head()"
   ]
  },
  {
   "cell_type": "code",
   "execution_count": 9,
   "metadata": {},
   "outputs": [
    {
     "data": {
      "text/html": [
       "<div>\n",
       "<style scoped>\n",
       "    .dataframe tbody tr th:only-of-type {\n",
       "        vertical-align: middle;\n",
       "    }\n",
       "\n",
       "    .dataframe tbody tr th {\n",
       "        vertical-align: top;\n",
       "    }\n",
       "\n",
       "    .dataframe thead th {\n",
       "        text-align: right;\n",
       "    }\n",
       "</style>\n",
       "<table border=\"1\" class=\"dataframe\">\n",
       "  <thead>\n",
       "    <tr style=\"text-align: right;\">\n",
       "      <th></th>\n",
       "      <th>date</th>\n",
       "      <th>year</th>\n",
       "      <th>month</th>\n",
       "      <th>day</th>\n",
       "      <th>hour</th>\n",
       "      <th>minute</th>\n",
       "      <th>sec</th>\n",
       "      <th>absolute_sec</th>\n",
       "      <th>id</th>\n",
       "      <th>measurement</th>\n",
       "    </tr>\n",
       "  </thead>\n",
       "  <tbody>\n",
       "    <tr>\n",
       "      <th>29993</th>\n",
       "      <td>2015-10-04 11:11:46-05</td>\n",
       "      <td>2015</td>\n",
       "      <td>10</td>\n",
       "      <td>4</td>\n",
       "      <td>11</td>\n",
       "      <td>11</td>\n",
       "      <td>46</td>\n",
       "      <td>299506</td>\n",
       "      <td>1283</td>\n",
       "      <td>167256</td>\n",
       "    </tr>\n",
       "    <tr>\n",
       "      <th>29994</th>\n",
       "      <td>2015-10-04 11:12:16-05</td>\n",
       "      <td>2015</td>\n",
       "      <td>10</td>\n",
       "      <td>4</td>\n",
       "      <td>11</td>\n",
       "      <td>12</td>\n",
       "      <td>16</td>\n",
       "      <td>299536</td>\n",
       "      <td>3635</td>\n",
       "      <td>151370</td>\n",
       "    </tr>\n",
       "    <tr>\n",
       "      <th>29995</th>\n",
       "      <td>2015-10-04 11:12:22-05</td>\n",
       "      <td>2015</td>\n",
       "      <td>10</td>\n",
       "      <td>4</td>\n",
       "      <td>11</td>\n",
       "      <td>12</td>\n",
       "      <td>22</td>\n",
       "      <td>299542</td>\n",
       "      <td>1714</td>\n",
       "      <td>147106</td>\n",
       "    </tr>\n",
       "    <tr>\n",
       "      <th>29996</th>\n",
       "      <td>2015-10-04 11:12:31-05</td>\n",
       "      <td>2015</td>\n",
       "      <td>10</td>\n",
       "      <td>4</td>\n",
       "      <td>11</td>\n",
       "      <td>12</td>\n",
       "      <td>31</td>\n",
       "      <td>299551</td>\n",
       "      <td>484</td>\n",
       "      <td>99398</td>\n",
       "    </tr>\n",
       "    <tr>\n",
       "      <th>29997</th>\n",
       "      <td>2015-10-04 11:12:35-05</td>\n",
       "      <td>2015</td>\n",
       "      <td>10</td>\n",
       "      <td>4</td>\n",
       "      <td>11</td>\n",
       "      <td>12</td>\n",
       "      <td>35</td>\n",
       "      <td>299555</td>\n",
       "      <td>8156</td>\n",
       "      <td>251908</td>\n",
       "    </tr>\n",
       "  </tbody>\n",
       "</table>\n",
       "</div>"
      ],
      "text/plain": [
       "                         date  year  month  day  hour  minute  sec  \\\n",
       "29993  2015-10-04 11:11:46-05  2015     10    4    11      11   46   \n",
       "29994  2015-10-04 11:12:16-05  2015     10    4    11      12   16   \n",
       "29995  2015-10-04 11:12:22-05  2015     10    4    11      12   22   \n",
       "29996  2015-10-04 11:12:31-05  2015     10    4    11      12   31   \n",
       "29997  2015-10-04 11:12:35-05  2015     10    4    11      12   35   \n",
       "\n",
       "       absolute_sec    id  measurement  \n",
       "29993        299506  1283       167256  \n",
       "29994        299536  3635       151370  \n",
       "29995        299542  1714       147106  \n",
       "29996        299551   484        99398  \n",
       "29997        299555  8156       251908  "
      ]
     },
     "execution_count": 9,
     "metadata": {},
     "output_type": "execute_result"
    }
   ],
   "source": [
    "df.tail()"
   ]
  },
  {
   "cell_type": "code",
   "execution_count": 10,
   "metadata": {},
   "outputs": [
    {
     "data": {
      "text/plain": [
       "date            object\n",
       "year             int64\n",
       "month            int64\n",
       "day              int64\n",
       "hour             int64\n",
       "minute           int64\n",
       "sec              int64\n",
       "absolute_sec     int64\n",
       "id               int64\n",
       "measurement      int64\n",
       "dtype: object"
      ]
     },
     "execution_count": 10,
     "metadata": {},
     "output_type": "execute_result"
    }
   ],
   "source": [
    "df.dtypes"
   ]
  },
  {
   "cell_type": "markdown",
   "metadata": {},
   "source": [
    "### 1.1 Number of households"
   ]
  },
  {
   "cell_type": "code",
   "execution_count": 11,
   "metadata": {},
   "outputs": [
    {
     "data": {
      "text/plain": [
       "123"
      ]
     },
     "execution_count": 11,
     "metadata": {},
     "output_type": "execute_result"
    }
   ],
   "source": [
    "len(set(df.id))"
   ]
  },
  {
   "cell_type": "markdown",
   "metadata": {},
   "source": [
    "There are 157 different households included in our data set of the measurement study."
   ]
  },
  {
   "cell_type": "markdown",
   "metadata": {},
   "source": [
    "### 1.1 Malfunctioning meters"
   ]
  },
  {
   "cell_type": "code",
   "execution_count": 12,
   "metadata": {},
   "outputs": [],
   "source": [
    "#Code for finding and elimintaing malfunctioning meters\n",
    "\n",
    "#datadframework should be same only without malfunctioning meters"
   ]
  },
  {
   "cell_type": "markdown",
   "metadata": {},
   "source": [
    "### 1.2 Hourly readings"
   ]
  },
  {
   "cell_type": "markdown",
   "metadata": {},
   "source": [
    "#### Helpful functions"
   ]
  },
  {
   "cell_type": "code",
   "execution_count": 13,
   "metadata": {},
   "outputs": [],
   "source": [
    "def getID (df, id):\n",
    "    df_id = pd.DataFrame({'date': [], \n",
    "                          'year': [],\n",
    "                            'month': [],\n",
    "                             'day': [],\n",
    "                            'hour': [],\n",
    "                            'minute': [],\n",
    "                            'sec': [],\n",
    "                          'absolute_sec': [],\n",
    "                         'id': [],\n",
    "                         'measurement': []})\n",
    "    \n",
    "    for i,j in df.iterrows():                 #change 100 back to len(df)\n",
    "        if j.dataid == id:\n",
    "            df_id = df_id.append(df.iloc[i, :])\n",
    "            \n",
    "    return df_id"
   ]
  },
  {
   "cell_type": "code",
   "execution_count": 14,
   "metadata": {},
   "outputs": [],
   "source": [
    "def getMonth (df, month):\n",
    "    df_month = pd.DataFrame({'date': [], \n",
    "                          'year': [],\n",
    "                            'month': [],\n",
    "                             'day': [],\n",
    "                            'hour': [],\n",
    "                            'minute': [],\n",
    "                            'sec': [],\n",
    "                             'absolute_sec': [],\n",
    "                         'id': [],\n",
    "                         'measurement': []})\n",
    "    \n",
    "    for i,j in df.iterrows():                    #change 100 back to len(df)\n",
    "        if df.at[i, 'month'] == month:\n",
    "            df_month = df_month.append(df.iloc[i, :])\n",
    "            \n",
    "    return df_month"
   ]
  },
  {
   "cell_type": "code",
   "execution_count": 15,
   "metadata": {},
   "outputs": [],
   "source": [
    "def getIDandMonth (df, id, month):\n",
    "    df_id_month = pd.DataFrame({'date': [], \n",
    "                          'year': [],\n",
    "                            'month': [],\n",
    "                             'day': [],\n",
    "                            'hour': [],\n",
    "                            'minute': [],\n",
    "                            'sec': [],\n",
    "                          'absolute_sec': [],\n",
    "                         'id': [],\n",
    "                         'measurement': []})\n",
    "    \n",
    "    for i in range (len(df)):                 #change 100 back to len(df)\n",
    "        if df.at[i, 'id'] == id and df.at[i, 'month'] == month:\n",
    "            df_id_month = df_id_month.append(df.iloc[i, :])\n",
    "            \n",
    "    return df_id_month"
   ]
  },
  {
   "cell_type": "markdown",
   "metadata": {},
   "source": [
    "#### Selecting best month"
   ]
  },
  {
   "cell_type": "markdown",
   "metadata": {},
   "source": [
    "Choosing month with most data samples as best month."
   ]
  },
  {
   "cell_type": "raw",
   "metadata": {},
   "source": [
    "df_october = getMonth(df, 10)\n",
    "df_november = getMonth(df, 11)\n",
    "df_december = getMonth(df, 12)\n",
    "df_january = getMonth(df, 1)\n",
    "df_febuary = getMonth(df, 2)\n",
    "df_march = getMonth(df, 3)"
   ]
  },
  {
   "cell_type": "raw",
   "metadata": {},
   "source": [
    "x = ['October', 'November', 'December', 'January', 'Febuary', 'March']\n",
    "y = [len(df_october), len(df_november), len(df_december), len(df_january), len(df_febuary), len(df_march)]\n",
    "\n",
    "index = np.arange(len(x))\n",
    "plt.bar(x, y)\n",
    "plt.xlabel('Month')\n",
    "plt.ylabel('Data samples')\n",
    "plt.title('Data samples per month')\n",
    "plt.show()"
   ]
  },
  {
   "cell_type": "code",
   "execution_count": 16,
   "metadata": {},
   "outputs": [],
   "source": [
    "def findBestMonth(df):\n",
    "    samples_per_month = [len(getMonth(df, 10)), len(getMonth(df, 11)), len(getMonth(df, 12)), \n",
    "                         len(getMonth(df, 1)), len(getMonth(df, 2)), len(getMonth(df, 3))]\n",
    "    months = [10, 11, 12, 1, 2, 3]\n",
    "    \n",
    "    return months[samples_per_month.index(max(samples_per_month))]\n",
    "    \n",
    "    "
   ]
  },
  {
   "cell_type": "markdown",
   "metadata": {},
   "source": [
    "#### Getting hourly readings"
   ]
  },
  {
   "cell_type": "code",
   "execution_count": 41,
   "metadata": {},
   "outputs": [],
   "source": [
    "from scipy import interpolate\n",
    "\n",
    "def hourlyReadings_IDandMonth(df, id, month):\n",
    "    df_correct = getIDandMonth(df, id, month)\n",
    "    \n",
    "    x = df_correct.absolute_sec\n",
    "    y = df_correct.measurement\n",
    "    \n",
    "    tck = interpolate.splrep(x, y)\n",
    "    \n",
    "    hourly_readings = []\n",
    "    if month == 10 or month == 12 or moth == 1 or month == 3:\n",
    "        for i in range (31*24):\n",
    "            hourly_readings.append(interpolate.splev(i*60^2, tck))\n",
    "    elif month == 11:\n",
    "        for i in range (30*24):\n",
    "            hourly_readings.append(interpolate.splev(i*60^2, tck))\n",
    "    elif month == 2:\n",
    "        for i in range (29*24):\n",
    "            hourly_readings.append(interpolate.splev(i*60^2, tck))\n",
    "        \n",
    "    return hourly_readings"
   ]
  },
  {
   "cell_type": "code",
   "execution_count": 42,
   "metadata": {},
   "outputs": [],
   "source": [
    "def hourlyReadings_Month(df, month):\n",
    "    hourly_readings_month = {}\n",
    "\n",
    "    for x in set(df.id):           #manche ids produzieren wohl Fehler \"m > k must hold\"\n",
    "        hourly_readings_bm[x] = hourlyReadings(df, x, bm)\n",
    "        \n",
    "    return hourly_readings_month\n",
    "\n",
    "#hourlyReadings(df, 8890, 10)   warum nan nan?"
   ]
  },
  {
   "cell_type": "code",
   "execution_count": 84,
   "metadata": {},
   "outputs": [],
   "source": [
    "def plottingOneID(df, id, month):\n",
    "    if month == 10 or month == 12 or month == 1 or month == 3:\n",
    "        x = range(0, 31*24)\n",
    "    elif month == 11:\n",
    "        x = range(0, 30*24)\n",
    "    elif month == 2:\n",
    "        x = range(0, 29*24)\n",
    "\n",
    "    y = hourlyReadings_IDandMonth(df, id, month)\n",
    "    fig, ax = plt.subplots(1, 1, figsize=(12, 8))\n",
    "    ax.plot(x, y, '--k')\n",
    "    ax.set_xlim(0, 31*24)\n",
    "    #ax.set_ylim(-100, 100)\n",
    "    ax.set_title('Hourly reading of Household {} for month {}'.format(id, month))\n",
    "    plt.xlabel(\"Hour\")\n",
    "    plt.ylabel(\"Measurement\")\n",
    "    plt.grid()\n",
    "    "
   ]
  },
  {
   "cell_type": "code",
   "execution_count": 151,
   "metadata": {},
   "outputs": [],
   "source": [
    "def plottingThreeID(df, ids, month):\n",
    "    if month == 10 or month == 12 or month == 1 or month == 3:\n",
    "        x = range(0, 31*24)\n",
    "    elif month == 11:\n",
    "        x = range(0, 30*24)\n",
    "    elif month == 2:\n",
    "        x = range(0, 29*24)\n",
    "\n",
    "    y1 = hourlyReadings_IDandMonth(df, ids[0], month)  #optimiere laufzeit mit _Month\n",
    "    y2 = hourlyReadings_IDandMonth(df, ids[1], month)\n",
    "    y3 = hourlyReadings_IDandMonth(df, ids[2], month)\n",
    "    \n",
    "    fig, ax = plt.subplots(1, 1, figsize=(12, 8))\n",
    "    ax.plot(x, y1, '--k', x, y2, '-', x, y3, '-.')\n",
    "    ax.set_xlim(0, 31*24)\n",
    "    #ax.set_ylim(-100, 100)\n",
    "    ax.set_title('Hourly reading for month {}'.format(month))\n",
    "    plt.xlabel(\"Hour\")\n",
    "    plt.ylabel(\"Measurement\")\n",
    "    plt.grid()\n",
    "    plt.show()\n",
    "    "
   ]
  },
  {
   "cell_type": "markdown",
   "metadata": {},
   "source": [
    "#### Hourly readings of random households for best month (5x)"
   ]
  },
  {
   "cell_type": "code",
   "execution_count": 121,
   "metadata": {
    "scrolled": false
   },
   "outputs": [
    {
     "data": {
      "image/png": "[encoded data removed]",
      "text/plain": [
       "<Figure size 864x576 with 1 Axes>"
      ]
     },
     "metadata": {
      "needs_background": "light"
     },
     "output_type": "display_data"
    }
   ],
   "source": [
    "import random\n",
    "\n",
    "bm = 10 #change to findBestMonth\n",
    "\n",
    "plottingOneID(df, random.sample(set(df.id),  1), bm)"
   ]
  },
  {
   "cell_type": "code",
   "execution_count": 122,
   "metadata": {},
   "outputs": [
    {
     "data": {
      "image/png": "[encoded data removed]",
      "text/plain": [
       "<Figure size 864x576 with 1 Axes>"
      ]
     },
     "metadata": {
      "needs_background": "light"
     },
     "output_type": "display_data"
    }
   ],
   "source": [
    "plottingOneID(df, random.sample(set(df.id),  1), bm)"
   ]
  },
  {
   "cell_type": "code",
   "execution_count": 123,
   "metadata": {},
   "outputs": [
    {
     "data": {
      "image/png": "[encoded data removed]",
      "text/plain": [
       "<Figure size 864x576 with 1 Axes>"
      ]
     },
     "metadata": {
      "needs_background": "light"
     },
     "output_type": "display_data"
    }
   ],
   "source": [
    "plottingOneID(df, random.sample(set(df.id),  1), bm)"
   ]
  },
  {
   "cell_type": "code",
   "execution_count": 124,
   "metadata": {},
   "outputs": [
    {
     "data": {
      "image/png": "[encoded data removed]",
      "text/plain": [
       "<Figure size 864x576 with 1 Axes>"
      ]
     },
     "metadata": {
      "needs_background": "light"
     },
     "output_type": "display_data"
    }
   ],
   "source": [
    "plottingOneID(df, random.sample(set(df.id),  1), bm)"
   ]
  },
  {
   "cell_type": "code",
   "execution_count": 125,
   "metadata": {},
   "outputs": [
    {
     "data": {
      "image/png": "[encoded data removed]",
      "text/plain": [
       "<Figure size 864x576 with 1 Axes>"
      ]
     },
     "metadata": {
      "needs_background": "light"
     },
     "output_type": "display_data"
    }
   ],
   "source": [
    "plottingOneID(df, random.sample(set(df.id),  1), bm)"
   ]
  },
  {
   "cell_type": "markdown",
   "metadata": {},
   "source": [
    "#### Hourly readings of 3 random households for best month (3x)"
   ]
  },
  {
   "cell_type": "code",
   "execution_count": 152,
   "metadata": {},
   "outputs": [
    {
     "data": {
      "image/png": "[encoded data removed]",
      "text/plain": [
       "<Figure size 864x576 with 1 Axes>"
      ]
     },
     "metadata": {
      "needs_background": "light"
     },
     "output_type": "display_data"
    }
   ],
   "source": [
    "plottingThreeID(df, random.sample(set(df.id),  3), 10)"
   ]
  },
  {
   "cell_type": "code",
   "execution_count": null,
   "metadata": {},
   "outputs": [],
   "source": [
    "#values to different to see something"
   ]
  },
  {
   "cell_type": "code",
   "execution_count": null,
   "metadata": {},
   "outputs": [],
   "source": []
  },
  {
   "cell_type": "code",
   "execution_count": null,
   "metadata": {},
   "outputs": [],
   "source": []
  },
  {
   "cell_type": "code",
   "execution_count": null,
   "metadata": {},
   "outputs": [],
   "source": []
  },
  {
   "cell_type": "code",
   "execution_count": null,
   "metadata": {},
   "outputs": [],
   "source": []
  },
  {
   "cell_type": "code",
   "execution_count": null,
   "metadata": {},
   "outputs": [],
   "source": []
  }
 ],
 "metadata": {
  "kernelspec": {
   "display_name": "Python 3",
   "language": "python",
   "name": "python3"
  },
  "language_info": {
   "codemirror_mode": {
    "name": "ipython",
    "version": 3
   },
   "file_extension": ".py",
   "mimetype": "text/x-python",
   "name": "python",
   "nbconvert_exporter": "python",
   "pygments_lexer": "ipython3",
   "version": "3.7.4"
  }
 },
 "nbformat": 4,
 "nbformat_minor": 2
}
